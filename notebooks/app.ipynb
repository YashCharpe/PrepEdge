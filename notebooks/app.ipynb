{
 "cells": [
  {
   "cell_type": "code",
   "execution_count": 1,
   "id": "7ab27936",
   "metadata": {},
   "outputs": [
    {
     "name": "stderr",
     "output_type": "stream",
     "text": [
      "USER_AGENT environment variable not set, consider setting it to identify your requests.\n"
     ]
    }
   ],
   "source": [
    "from langchain_community.document_loaders import WebBaseLoader\n",
    "\n",
    "url = \"https://jobs.bmc.com/Careers/JobDetail/Lead-Quality-Automation-Engineer-India/44277\"\n",
    "\n",
    "loader = WebBaseLoader(url)\n",
    "data = loader.load()"
   ]
  },
  {
   "cell_type": "code",
   "execution_count": 2,
   "id": "90aad06f",
   "metadata": {},
   "outputs": [],
   "source": [
    "scraped_data = data[0].page_content"
   ]
  },
  {
   "cell_type": "code",
   "execution_count": 3,
   "id": "fce1019f",
   "metadata": {},
   "outputs": [
    {
     "data": {
      "text/plain": [
       "'Sr Quality Automation Engineer - 44277 - BMC\\nSkip to content\\nBMC\\nHomepage\\nOpen Positions\\nPrivacy Notice\\nLogin\\nSr Quality Automation Engineer\\nHome\\n...\\nOpen Positions\\nJob Detail\\nBasic Information\\nJob Name\\nLead Quality Automation Engineer - India\\nCountry\\nIndia\\nState\\nMaharashtra\\nCity\\nPune\\nDate Published\\n28-Mar-2025\\nJob ID\\n44277\\nTravel\\nYou may occasionally be required to travel for business\\nLooking for details about our benefits? You can learn more about them by clicking HERE\\nDescription and Requirements\\nCareerArc Code\\nCA-DN\\n#LI-DN1\\nHybrid: #LI-Hybrid\\n\"At BMC trust is not just a word - it\\'s a way of life!\"\\xa0We are an award-winning, equal opportunity, culturally diverse, fun place to be. Giving back to the community drives us to be better every single day. Our work environment allows you to balance your priorities, because we know you will bring your best every day. We will champion your wins and shout them from the rooftops. Your peers will inspire, drive, support you, and make you laugh out loud!\\u202f\\xa0We help our customers free up time and space to become an Autonomous Digital Enterprise that conquers the opportunities ahead - and are relentless in the pursuit of innovation!\\nThe DSOM product line includes BMC’s industry-leading Digital Services and Operation Management products. We have many interesting SaaS products, in the fields of: Predictive IT service management, Automatic discovery of inventories, intelligent operations management, and more! We continuously grow by adding and implementing the most cutting-edge technologies and investing in Innovation! Our team is a global and versatile group of professionals, and we LOVE to hear our employees’ innovative ideas. So, if Innovation is close to your heart – this is the place for you!\\nBMC is looking for a QA Tech Lead to join a QE team working on complex and distributed software, developing test plans, executing tests, developing automation & assuring product quality.\\xa0Here is how, through this exciting role, YOU will contribute to BMC\\'s and your own success:• Perform manual tests as well as automation development using Python\\xa0• Review requirements, specifications, and technical design documents to provide timely and meaningful feedback.• Create detailed, comprehensive, and well-structured test plans and test cases.\\xa0• Estimate, prioritize, plan and coordinate testing activities\\xa0• Collaborate with various teams to ensure quality testing\\xa0• Initiate projects and ideas to improve the team’s results• On-board and mentor new employees\\nTo ensure you’re set up for success, you will bring the following skillset & experience:\\xa010+ Years of hands-on Software Quality Assurance experience in software product development5+ Years of hands-on test cases automation development experience in developing and implementing automated testing platforms using Selenium & Java from scratch.At least 3+ years of experience in Performance Testing using JMeterManaging automation frameworks and run regression suites.Experience with Web app, API based, Mobile app testing / frameworks.Hands on experience with tools like JIRA, Github.Must have worked on large scale enterprise products (n-tier architecture)Understanding fundamental design principles behind a scalable applicationExperienced in working with Agile development methodology and working with virtual team.Experience with CI/CD using Jenkins and related scripting to implement continuous testing.Strong knowledge and hands on experience with container-based apps on Kubernetes, and OpenShift. Experience of creating and maintain helm charts for deployments is a must.Experience with at least one cloud platform like AWS, Azure, OCI or GCI.Strong documentation, communication, and presentation skills.Experience with working on AI based platforms, GenAI, GPT technologies is a plus.Whilst these are nice to have, our team can help you develop in the following skills:\\xa0Test Automation experience, Scripting skills (preferably Robot Framework, Python etc.)Performance testing (Scalability, benchmarking, Load) frameworks, such as JMeter, etc.\\xa0Agile methodology\\xa0Jenkins CI\\nOur commitment to you!\\xa0\\xa0BMC’s culture is built around its people. We have 6000+ brilliant minds working together across the globe. You won’t be known just by your employee number, but for your true authentic self. BMC lets you be YOU!\\xa0If after reading the above, You’re unsure if you meet the qualifications of this role but are deeply excited about BMC and this team, we still encourage you to apply! We want to attract talents from diverse backgrounds and experience to ensure we face the world together with the best ideas!\\xa0\\xa0BMC is committed to equal opportunity employment regardless of race, age, sex, creed, color, religion, citizenship status, sexual orientation, gender,\\xa0 gender expression,\\xa0 gender identity, national origin, disability, marital status, pregnancy, disabled veteran or status as a protected veteran.\\xa0 If you need a reasonable accommodation for any part of the application and hiring process, visit the accommodation request page.\\nBMC Software maintains a strict policy of not requesting any form of payment in exchange for employment opportunities, upholding a fair and ethical hiring process.\\nAt BMC we believe in pay transparency and have set the midpoint of the salary band for this role at 3,315,400 INR. Actual salaries depend on a wide range of factors that are considered in making compensation decisions, including but not limited to skill sets; experience and training, licensure, and certifications; and other business and organizational needs.\\xa0The salary listed is just one component of BMC\\'s employee compensation package. Other rewards may include a variable plan and country specific benefits.We are committed to ensuring that our employees are paid fairly and equitably, and that we are transparent about our compensation practices.\\n(Returnship@BMC)Had a break in your career? No worries. This role is eligible for candidates who have taken a break in their career and want to re-enter the workforce. If your expertise matches the above job, visit to\\xa0https://bmcrecruit.avature.net/returnship\\xa0know more and how to apply.\\nMin salary\\n2,486,550\\nOur commitment to you!\\xa0\\xa0BMC’s culture is built around its people. We have 6000+ brilliant minds working together across the globe. You won’t be known just by your employee number, but for your true authentic self. BMC lets you be YOU!\\xa0If after reading the above, You’re unsure if you meet the qualifications of this role but are deeply excited about BMC and this team, we still encourage you to apply! We want to attract talents from diverse backgrounds and experience to ensure we face the world together with the best ideas!\\xa0\\xa0BMC is committed to equal opportunity employment regardless of race, age, sex, creed, color, religion, citizenship status, sexual orientation, gender,\\xa0 gender expression,\\xa0 gender identity, national origin, disability, marital status, pregnancy, disabled veteran or status as a protected veteran.\\xa0 If you need a reasonable accommodation for any part of the application and hiring process, visit the accommodation request page.\\nMid point salary\\n3,315,400\\nMax salary\\n4,144,250\\nGo back\\nApply\\nCompany\\nAbout BMC\\nWebinars\\nCareers\\nSitemap\\nEvents\\nFeedback\\nGlobal Contacts\\nNewsroom\\nSupport\\nSupport Central\\nVulnerability Disclosure\\nDownloads\\nKnowledge base\\nDocumentation\\nResources\\nSocial\\nCommunity\\nFacebook\\nBMC Blogs\\nInstagram\\nLinkedIn\\nYouTube\\nx\\nContact\\nFree Trials\\nLegal\\nPrivacy Policy\\nUpdate my preferences\\nTrust Center\\nAccessibility Tools\\n© Copyright 2005 - 2025\\nBMC Software, Inc. Use of this site signifies your acceptance of BMC’s\\xa0Terms of Use. BMC, the BMC logo, and other BMC marks are assets of BMC Software, Inc. These trademarks are\\xa0registered\\xa0and\\xa0may be registered\\xa0in the U.S. and in other countries.'"
      ]
     },
     "execution_count": 3,
     "metadata": {},
     "output_type": "execute_result"
    }
   ],
   "source": [
    "import re\n",
    "\n",
    "def clean_page_content(text):\n",
    "    # Remove leading/trailing whitespace and quotes\n",
    "    text = text.strip().strip(\"'\").strip('\"')\n",
    "    # Replace multiple newlines with a single newline\n",
    "    text = re.sub(r'\\n+', '\\n', text)\n",
    "    # Remove excessive spaces\n",
    "    text = re.sub(r'[ \\t]+', ' ', text)\n",
    "    # Remove leading/trailing spaces on each line\n",
    "    text = '\\n'.join(line.strip() for line in text.split('\\n'))\n",
    "    # Optionally, remove empty lines\n",
    "    text = '\\n'.join(line for line in text.split('\\n') if line)\n",
    "    return text\n",
    "\n",
    "cleaned_data = clean_page_content(scraped_data)\n",
    "cleaned_data"
   ]
  },
  {
   "cell_type": "code",
   "execution_count": 4,
   "id": "d4f05eac",
   "metadata": {},
   "outputs": [],
   "source": [
    "from langchain_community.document_loaders import PyPDFLoader\n",
    "\n",
    "pdf_loader = PyPDFLoader(\"/Users/yashcharpe/Documents/Code/PythonProjects/PrepEdge/assets/Sample_Resume.pdf\")\n",
    "pdf_data = pdf_loader.load()"
   ]
  },
  {
   "cell_type": "code",
   "execution_count": 5,
   "id": "2f45d96b",
   "metadata": {},
   "outputs": [
    {
     "data": {
      "text/plain": [
       "'Rishabh Jain +919987774837 | dcerishabh@gmail.com | linkedin.com/in/rishabh-jain-76aa5ba5\\nPROFESSIONAL\\nSUMMARY\\nMulti-skilled Software Development Engineer with hands-on experience in full-stack web development using\\nJava,\\nSpring\\nMVC,\\nPostgreSQL,\\nand\\nRESTful\\nAPIs.\\nProﬁcient\\nin\\nengineering\\nscalable\\nbackend\\nsystems,\\nmultithreaded\\napplications,\\nand\\nreal-time\\ndata\\ncrawlers\\nwith\\nhigh\\nperformance\\nand\\nlow\\nlatency.\\nStrong\\nfoundation\\nin\\nobject-oriented\\nprogramming,\\ndatabase\\noptimization,\\nand\\nfrontend\\ntechnologies\\nlike\\nHTML,\\nCSS,\\nand\\nJavaScript.\\nSuccessfully\\narchitected\\nand\\nvalidated\\nend-to-end\\nprojects\\nincluding\\nTwitter\\nClone,\\nHospital\\nRecord\\nScraper,\\nand\\nE-commerce\\nRecommendation\\nSystems.\\nProﬁcient\\nin\\nwriting\\nclean,\\nmaintainable\\ncode,\\ndeploying\\nservices,\\nand\\ncollaborating\\nin\\nfast-paced\\ndevelopment\\nenvironments.\\nEDUCATION\\nNational Institute Of Technology , Trichy, India CGPA:7.62\\nB.Tech\\nCSE,\\nExpected\\nJune\\n2024\\n(Computer\\nScience\\nand\\nEngineering)\\nWORK EXPERIENCE\\nSoftware Developer Intern, Coding Club India | 2.7 Lakh+ Followers on LinkedIn • Crafted responsive web interfaces using HTML, CSS, JavaScript, and Bootstrap supporting multi-device. • Implemented backend modules using Java and Spring MVC to support scalable feature development. • Constructed and deployed RESTful APIs with optimized SQL queries, improving data retrieval performance.\\n•\\nExecuted\\nA/B\\ntesting\\non\\nmultiple\\nUI\\nﬂows,\\nresulting\\nin\\n30%\\nhigher\\nengagement\\nand\\n25%\\ndrop\\nin\\nbounce.\\nPROJECTS\\nTwitter Clone: Scalable Social Media Platform | HTML, CSS, Javascript, Postgres, Spring MVC • Structured a full-stack tweet-sharing platform scalable to 1M+ users using Spring MVC and PostgreSQL. • Delivered 10+ features including Login, Signup, Tweet Creation, Follow with complete backend logic. • Enhanced read queries in PostgreSQL to respond under 10ms; backend API latency <50ms . • Achieved 100% REST API test coverage using Postman and JUnit, ensuring robust backend performance. Bollywood Movie Songs Downloader | Java, Spring MVC, Multithreading Crawling • Engineered multithreaded crawling to achieve 50 times faster song downloads from target sources. • Leveraged Java HttpClient for stable connections, achieving a 95% download success rate. • Managed large-scale song metadata extraction with minimal failure and elevated thread management. Advanced Ecommerce Recommendation System | Python, NLP, BoW, TF-IDF, Word2Vec • Engineered a content-based recommendation system with results within 100 milliseconds. • Supercharged product recommendations on e-commerce platforms for 1 million products. • Attained a remarkable 98% accuracy rate with NLP Models, including Bag of Words and TF-IDF. • Seamlessly integrated the Amazon product advertising API for enhanced functionality. Handwritten Digit Recognition | Python, ML, KNN, AI, Numpy, Tensorﬂow •Achieved 95% classiﬁcation accuracy on MNIST dataset using streamlined K-Nearest Neighbors algorithm. • Reduced prediction latency by 25% through eﬃcient vectorized operations and NumPy optimizations. • Enhanced model performance via GridSearchCV and K-fold cross-validation for hyperparameter tuning. • Architected a scalable machine learning pipeline with 30% faster processing on handwritten image datasets.\\nTECHNICAL SKILLS\\n• Languages: Java, Python, JavaScript, SQL, HTML, CSS, C++, Bash, Shell Scripting • Databases: MySQL, PostgreSQL, MongoDB • Backend Frameworks: Spring MVC • Machine Learning: Supervised Learning (Regression, Classiﬁcation), Cross-Validation, Predictive Modeling • Data Analytics: SQL Queries, Data Cleaning, Feature Engineering, Visualization (Matplotlib, Pandas) • Tools: Git, Postman, JUnit, Jupyter, VS Code, IntelliJ, Eclipse • Cloud Platforms: AWS (S3, EC2), Google Cloud\\nCERTIFICATIONS\\nJava Full Stack Development with Spring MVC – Coding Club India (2.7 Lakh+ Followers)\\nHONORS AND AWARDS\\n• Solved 500+ algorithmic problems across LeetCode, CodeChef, HackerRank, InterviewBit, and SPOJ.'"
      ]
     },
     "execution_count": 5,
     "metadata": {},
     "output_type": "execute_result"
    }
   ],
   "source": [
    "cleaned_pdf_data = clean_page_content(pdf_data[0].page_content)\n",
    "cleaned_pdf_data"
   ]
  },
  {
   "cell_type": "code",
   "execution_count": 6,
   "id": "7ef58b9f",
   "metadata": {},
   "outputs": [],
   "source": [
    "from langchain.prompts import PromptTemplate\n",
    "\n",
    "template=\"\"\"\n",
    "        You are an expert technical interviewer with deep experience in assessing candidates for specialized technical roles.\n",
    "\n",
    "        Using the information below, generate a set of exactly 10 highly relevant, clear, and technically focused interview questions for a candidate applying to this position.\n",
    "\n",
    "        Inputs:\n",
    "        Job Description:\n",
    "        {job_description}\n",
    "\n",
    "        Resume Content:\n",
    "        {resume_content}\n",
    "\n",
    "        Requirements for the Questions:\n",
    "\n",
    "        Relevance: Base each question strictly on the skills, tools, technologies, and responsibilities mentioned in both the job description and the resume. Avoid introducing topics not covered in either.\n",
    "\n",
    "        Coverage: Ensure the questions collectively test the candidate’s:\n",
    "\n",
    "        Core technical skills mentioned in the job description\n",
    "\n",
    "        Problem-solving and troubleshooting ability\n",
    "\n",
    "        Understanding of relevant tools, frameworks, and methodologies\n",
    "\n",
    "        Ability to work in a team, collaborate, and communicate effectively\n",
    "\n",
    "        Clarity & Precision: Make each question concise, unambiguous, and answerable in a technical interview setting.\n",
    "\n",
    "        Variety: Include a balanced mix of:\n",
    "\n",
    "        Practical scenario-based questions\n",
    "\n",
    "        Conceptual/theoretical knowledge checks\n",
    "\n",
    "        Problem-solving and optimization challenges\n",
    "\n",
    "        Questions to assess experience in past projects mentioned in the resume\n",
    "\n",
    "        Format: Present the questions as a numbered list from 1 to 10. Do not provide answers.\n",
    "    \"\"\"\n",
    "\n",
    "promptTemplate = PromptTemplate(\n",
    "    template=template,\n",
    "    input_variables=[\"job_description\",\"resume_content\"]\n",
    ")"
   ]
  },
  {
   "cell_type": "code",
   "execution_count": 7,
   "id": "7437ed1a",
   "metadata": {},
   "outputs": [
    {
     "name": "stderr",
     "output_type": "stream",
     "text": [
      "/var/folders/88/mh06fx0d1zgc4m372r5s2yg40000gn/T/ipykernel_23322/2984537256.py:2: LangChainDeprecationWarning: The class `Ollama` was deprecated in LangChain 0.3.1 and will be removed in 1.0.0. An updated version of the class exists in the :class:`~langchain-ollama package and should be used instead. To use it run `pip install -U :class:`~langchain-ollama` and import as `from :class:`~langchain_ollama import OllamaLLM``.\n",
      "  llm = Ollama(model=\"llama3.2\")\n"
     ]
    }
   ],
   "source": [
    "from langchain_community.llms import Ollama\n",
    "llm = Ollama(model=\"llama3.2\")"
   ]
  },
  {
   "cell_type": "code",
   "execution_count": 8,
   "id": "ce059433",
   "metadata": {},
   "outputs": [
    {
     "name": "stderr",
     "output_type": "stream",
     "text": [
      "/var/folders/88/mh06fx0d1zgc4m372r5s2yg40000gn/T/ipykernel_23322/345064391.py:3: LangChainDeprecationWarning: The class `LLMChain` was deprecated in LangChain 0.1.17 and will be removed in 1.0. Use :meth:`~RunnableSequence, e.g., `prompt | llm`` instead.\n",
      "  chain = LLMChain(\n"
     ]
    }
   ],
   "source": [
    "from langchain.chains import LLMChain\n",
    "\n",
    "chain = LLMChain(\n",
    "    llm=llm,\n",
    "    prompt=promptTemplate\n",
    ")\n",
    "\n",
    "res = chain.invoke({\n",
    "    \"job_description\": cleaned_data,\n",
    "    \"resume_content\": cleaned_pdf_data\n",
    "})"
   ]
  },
  {
   "cell_type": "code",
   "execution_count": 9,
   "id": "0a1a49de",
   "metadata": {},
   "outputs": [
    {
     "data": {
      "text/plain": [
       "dict"
      ]
     },
     "execution_count": 9,
     "metadata": {},
     "output_type": "execute_result"
    }
   ],
   "source": [
    "type(res)"
   ]
  },
  {
   "cell_type": "code",
   "execution_count": 10,
   "id": "1415b9b3",
   "metadata": {},
   "outputs": [
    {
     "data": {
      "text/plain": [
       "{'job_description': 'Sr Quality Automation Engineer - 44277 - BMC\\nSkip to content\\nBMC\\nHomepage\\nOpen Positions\\nPrivacy Notice\\nLogin\\nSr Quality Automation Engineer\\nHome\\n...\\nOpen Positions\\nJob Detail\\nBasic Information\\nJob Name\\nLead Quality Automation Engineer - India\\nCountry\\nIndia\\nState\\nMaharashtra\\nCity\\nPune\\nDate Published\\n28-Mar-2025\\nJob ID\\n44277\\nTravel\\nYou may occasionally be required to travel for business\\nLooking for details about our benefits? You can learn more about them by clicking HERE\\nDescription and Requirements\\nCareerArc Code\\nCA-DN\\n#LI-DN1\\nHybrid: #LI-Hybrid\\n\"At BMC trust is not just a word - it\\'s a way of life!\"\\xa0We are an award-winning, equal opportunity, culturally diverse, fun place to be. Giving back to the community drives us to be better every single day. Our work environment allows you to balance your priorities, because we know you will bring your best every day. We will champion your wins and shout them from the rooftops. Your peers will inspire, drive, support you, and make you laugh out loud!\\u202f\\xa0We help our customers free up time and space to become an Autonomous Digital Enterprise that conquers the opportunities ahead - and are relentless in the pursuit of innovation!\\nThe DSOM product line includes BMC’s industry-leading Digital Services and Operation Management products. We have many interesting SaaS products, in the fields of: Predictive IT service management, Automatic discovery of inventories, intelligent operations management, and more! We continuously grow by adding and implementing the most cutting-edge technologies and investing in Innovation! Our team is a global and versatile group of professionals, and we LOVE to hear our employees’ innovative ideas. So, if Innovation is close to your heart – this is the place for you!\\nBMC is looking for a QA Tech Lead to join a QE team working on complex and distributed software, developing test plans, executing tests, developing automation & assuring product quality.\\xa0Here is how, through this exciting role, YOU will contribute to BMC\\'s and your own success:• Perform manual tests as well as automation development using Python\\xa0• Review requirements, specifications, and technical design documents to provide timely and meaningful feedback.• Create detailed, comprehensive, and well-structured test plans and test cases.\\xa0• Estimate, prioritize, plan and coordinate testing activities\\xa0• Collaborate with various teams to ensure quality testing\\xa0• Initiate projects and ideas to improve the team’s results• On-board and mentor new employees\\nTo ensure you’re set up for success, you will bring the following skillset & experience:\\xa010+ Years of hands-on Software Quality Assurance experience in software product development5+ Years of hands-on test cases automation development experience in developing and implementing automated testing platforms using Selenium & Java from scratch.At least 3+ years of experience in Performance Testing using JMeterManaging automation frameworks and run regression suites.Experience with Web app, API based, Mobile app testing / frameworks.Hands on experience with tools like JIRA, Github.Must have worked on large scale enterprise products (n-tier architecture)Understanding fundamental design principles behind a scalable applicationExperienced in working with Agile development methodology and working with virtual team.Experience with CI/CD using Jenkins and related scripting to implement continuous testing.Strong knowledge and hands on experience with container-based apps on Kubernetes, and OpenShift. Experience of creating and maintain helm charts for deployments is a must.Experience with at least one cloud platform like AWS, Azure, OCI or GCI.Strong documentation, communication, and presentation skills.Experience with working on AI based platforms, GenAI, GPT technologies is a plus.Whilst these are nice to have, our team can help you develop in the following skills:\\xa0Test Automation experience, Scripting skills (preferably Robot Framework, Python etc.)Performance testing (Scalability, benchmarking, Load) frameworks, such as JMeter, etc.\\xa0Agile methodology\\xa0Jenkins CI\\nOur commitment to you!\\xa0\\xa0BMC’s culture is built around its people. We have 6000+ brilliant minds working together across the globe. You won’t be known just by your employee number, but for your true authentic self. BMC lets you be YOU!\\xa0If after reading the above, You’re unsure if you meet the qualifications of this role but are deeply excited about BMC and this team, we still encourage you to apply! We want to attract talents from diverse backgrounds and experience to ensure we face the world together with the best ideas!\\xa0\\xa0BMC is committed to equal opportunity employment regardless of race, age, sex, creed, color, religion, citizenship status, sexual orientation, gender,\\xa0 gender expression,\\xa0 gender identity, national origin, disability, marital status, pregnancy, disabled veteran or status as a protected veteran.\\xa0 If you need a reasonable accommodation for any part of the application and hiring process, visit the accommodation request page.\\nBMC Software maintains a strict policy of not requesting any form of payment in exchange for employment opportunities, upholding a fair and ethical hiring process.\\nAt BMC we believe in pay transparency and have set the midpoint of the salary band for this role at 3,315,400 INR. Actual salaries depend on a wide range of factors that are considered in making compensation decisions, including but not limited to skill sets; experience and training, licensure, and certifications; and other business and organizational needs.\\xa0The salary listed is just one component of BMC\\'s employee compensation package. Other rewards may include a variable plan and country specific benefits.We are committed to ensuring that our employees are paid fairly and equitably, and that we are transparent about our compensation practices.\\n(Returnship@BMC)Had a break in your career? No worries. This role is eligible for candidates who have taken a break in their career and want to re-enter the workforce. If your expertise matches the above job, visit to\\xa0https://bmcrecruit.avature.net/returnship\\xa0know more and how to apply.\\nMin salary\\n2,486,550\\nOur commitment to you!\\xa0\\xa0BMC’s culture is built around its people. We have 6000+ brilliant minds working together across the globe. You won’t be known just by your employee number, but for your true authentic self. BMC lets you be YOU!\\xa0If after reading the above, You’re unsure if you meet the qualifications of this role but are deeply excited about BMC and this team, we still encourage you to apply! We want to attract talents from diverse backgrounds and experience to ensure we face the world together with the best ideas!\\xa0\\xa0BMC is committed to equal opportunity employment regardless of race, age, sex, creed, color, religion, citizenship status, sexual orientation, gender,\\xa0 gender expression,\\xa0 gender identity, national origin, disability, marital status, pregnancy, disabled veteran or status as a protected veteran.\\xa0 If you need a reasonable accommodation for any part of the application and hiring process, visit the accommodation request page.\\nMid point salary\\n3,315,400\\nMax salary\\n4,144,250\\nGo back\\nApply\\nCompany\\nAbout BMC\\nWebinars\\nCareers\\nSitemap\\nEvents\\nFeedback\\nGlobal Contacts\\nNewsroom\\nSupport\\nSupport Central\\nVulnerability Disclosure\\nDownloads\\nKnowledge base\\nDocumentation\\nResources\\nSocial\\nCommunity\\nFacebook\\nBMC Blogs\\nInstagram\\nLinkedIn\\nYouTube\\nx\\nContact\\nFree Trials\\nLegal\\nPrivacy Policy\\nUpdate my preferences\\nTrust Center\\nAccessibility Tools\\n© Copyright 2005 - 2025\\nBMC Software, Inc. Use of this site signifies your acceptance of BMC’s\\xa0Terms of Use. BMC, the BMC logo, and other BMC marks are assets of BMC Software, Inc. These trademarks are\\xa0registered\\xa0and\\xa0may be registered\\xa0in the U.S. and in other countries.',\n",
       " 'resume_content': 'Rishabh Jain +919987774837 | dcerishabh@gmail.com | linkedin.com/in/rishabh-jain-76aa5ba5\\nPROFESSIONAL\\nSUMMARY\\nMulti-skilled Software Development Engineer with hands-on experience in full-stack web development using\\nJava,\\nSpring\\nMVC,\\nPostgreSQL,\\nand\\nRESTful\\nAPIs.\\nProﬁcient\\nin\\nengineering\\nscalable\\nbackend\\nsystems,\\nmultithreaded\\napplications,\\nand\\nreal-time\\ndata\\ncrawlers\\nwith\\nhigh\\nperformance\\nand\\nlow\\nlatency.\\nStrong\\nfoundation\\nin\\nobject-oriented\\nprogramming,\\ndatabase\\noptimization,\\nand\\nfrontend\\ntechnologies\\nlike\\nHTML,\\nCSS,\\nand\\nJavaScript.\\nSuccessfully\\narchitected\\nand\\nvalidated\\nend-to-end\\nprojects\\nincluding\\nTwitter\\nClone,\\nHospital\\nRecord\\nScraper,\\nand\\nE-commerce\\nRecommendation\\nSystems.\\nProﬁcient\\nin\\nwriting\\nclean,\\nmaintainable\\ncode,\\ndeploying\\nservices,\\nand\\ncollaborating\\nin\\nfast-paced\\ndevelopment\\nenvironments.\\nEDUCATION\\nNational Institute Of Technology , Trichy, India CGPA:7.62\\nB.Tech\\nCSE,\\nExpected\\nJune\\n2024\\n(Computer\\nScience\\nand\\nEngineering)\\nWORK EXPERIENCE\\nSoftware Developer Intern, Coding Club India | 2.7 Lakh+ Followers on LinkedIn • Crafted responsive web interfaces using HTML, CSS, JavaScript, and Bootstrap supporting multi-device. • Implemented backend modules using Java and Spring MVC to support scalable feature development. • Constructed and deployed RESTful APIs with optimized SQL queries, improving data retrieval performance.\\n•\\nExecuted\\nA/B\\ntesting\\non\\nmultiple\\nUI\\nﬂows,\\nresulting\\nin\\n30%\\nhigher\\nengagement\\nand\\n25%\\ndrop\\nin\\nbounce.\\nPROJECTS\\nTwitter Clone: Scalable Social Media Platform | HTML, CSS, Javascript, Postgres, Spring MVC • Structured a full-stack tweet-sharing platform scalable to 1M+ users using Spring MVC and PostgreSQL. • Delivered 10+ features including Login, Signup, Tweet Creation, Follow with complete backend logic. • Enhanced read queries in PostgreSQL to respond under 10ms; backend API latency <50ms . • Achieved 100% REST API test coverage using Postman and JUnit, ensuring robust backend performance. Bollywood Movie Songs Downloader | Java, Spring MVC, Multithreading Crawling • Engineered multithreaded crawling to achieve 50 times faster song downloads from target sources. • Leveraged Java HttpClient for stable connections, achieving a 95% download success rate. • Managed large-scale song metadata extraction with minimal failure and elevated thread management. Advanced Ecommerce Recommendation System | Python, NLP, BoW, TF-IDF, Word2Vec • Engineered a content-based recommendation system with results within 100 milliseconds. • Supercharged product recommendations on e-commerce platforms for 1 million products. • Attained a remarkable 98% accuracy rate with NLP Models, including Bag of Words and TF-IDF. • Seamlessly integrated the Amazon product advertising API for enhanced functionality. Handwritten Digit Recognition | Python, ML, KNN, AI, Numpy, Tensorﬂow •Achieved 95% classiﬁcation accuracy on MNIST dataset using streamlined K-Nearest Neighbors algorithm. • Reduced prediction latency by 25% through eﬃcient vectorized operations and NumPy optimizations. • Enhanced model performance via GridSearchCV and K-fold cross-validation for hyperparameter tuning. • Architected a scalable machine learning pipeline with 30% faster processing on handwritten image datasets.\\nTECHNICAL SKILLS\\n• Languages: Java, Python, JavaScript, SQL, HTML, CSS, C++, Bash, Shell Scripting • Databases: MySQL, PostgreSQL, MongoDB • Backend Frameworks: Spring MVC • Machine Learning: Supervised Learning (Regression, Classiﬁcation), Cross-Validation, Predictive Modeling • Data Analytics: SQL Queries, Data Cleaning, Feature Engineering, Visualization (Matplotlib, Pandas) • Tools: Git, Postman, JUnit, Jupyter, VS Code, IntelliJ, Eclipse • Cloud Platforms: AWS (S3, EC2), Google Cloud\\nCERTIFICATIONS\\nJava Full Stack Development with Spring MVC – Coding Club India (2.7 Lakh+ Followers)\\nHONORS AND AWARDS\\n• Solved 500+ algorithmic problems across LeetCode, CodeChef, HackerRank, InterviewBit, and SPOJ.',\n",
       " 'text': \"Here are ten highly relevant, clear, and technically focused interview questions for a Sr Quality Automation Engineer position:\\n\\n1. **Test Automation Framework**: You're tasked with developing test automation frameworks using Python and Selenium. How would you approach creating a robust framework that can handle complex web applications, and what tools or libraries would you use to achieve this?\\n\\n2. **Performance Testing**: A company's e-commerce platform is experiencing frequent downtime due to high traffic. As a Quality Automation Engineer, how would you design and implement a performance testing strategy using JMeter to identify the root cause of the issue and suggest improvements?\\n\\n3. **Agile Methodology**: In an Agile development environment, team members are working on separate features that need to be integrated with the main application. How would you ensure that your test automation framework can seamlessly integrate with the CI/CD pipeline and handle changes to the application's architecture?\\n\\n4. **CI/CD Pipeline Optimization**: You're tasked with optimizing a CI/CD pipeline using Jenkins and scripting languages like Bash or Shell Scripting. What specific steps would you take to improve the pipeline's efficiency, and how would you ensure that it can handle large-scale deployments?\\n\\n5. **Cloud-Based Automation**: A company is transitioning its application to a cloud-based platform (e.g., AWS or Azure). How would you adapt your existing automation framework to work with this new environment, and what specific tools or services would you use to achieve this?\\n\\n6. **Data Analytics**: You're analyzing the data from a recent performance testing session using SQL queries and data visualization tools like Matplotlib or Pandas. What insights can be gained from this analysis, and how would you present these findings to stakeholders?\\n\\n7. **Collaboration with Development Teams**: How would you work closely with development teams to ensure that your test automation framework aligns with their development goals and methodologies? What communication strategies would you use to facilitate collaboration?\\n\\n8. **Troubleshooting and Debugging**: A critical issue has been identified in the application's performance, but you're unable to reproduce it using your automated tests. How would you approach troubleshooting this issue, and what steps would you take to identify the root cause of the problem?\\n\\n9. **Project-Based Experience**: You were part of a project that involved developing a content-based recommendation system using Python, NLP, BoW, TF-IDF, and Word2Vec. Can you walk us through your approach, challenges, and successes during this project? How did you ensure the accuracy of your model?\\n\\n10. **Code Quality and Maintainability**: You've been tasked with reviewing and improving the code quality of an existing automation framework. What specific code smells or anti-patterns would you look for, and how would you refactor the code to improve maintainability and readability?\\n\\nThese questions are designed to assess the candidate's technical skills, problem-solving ability, understanding of relevant tools and methodologies, and experience working in a team.\"}"
      ]
     },
     "execution_count": 10,
     "metadata": {},
     "output_type": "execute_result"
    }
   ],
   "source": [
    "res"
   ]
  },
  {
   "cell_type": "code",
   "execution_count": 11,
   "id": "e2672c0f",
   "metadata": {},
   "outputs": [
    {
     "data": {
      "text/plain": [
       "\"Here are ten highly relevant, clear, and technically focused interview questions for a Sr Quality Automation Engineer position:\\n\\n1. **Test Automation Framework**: You're tasked with developing test automation frameworks using Python and Selenium. How would you approach creating a robust framework that can handle complex web applications, and what tools or libraries would you use to achieve this?\\n\\n2. **Performance Testing**: A company's e-commerce platform is experiencing frequent downtime due to high traffic. As a Quality Automation Engineer, how would you design and implement a performance testing strategy using JMeter to identify the root cause of the issue and suggest improvements?\\n\\n3. **Agile Methodology**: In an Agile development environment, team members are working on separate features that need to be integrated with the main application. How would you ensure that your test automation framework can seamlessly integrate with the CI/CD pipeline and handle changes to the application's architecture?\\n\\n4. **CI/CD Pipeline Optimization**: You're tasked with optimizing a CI/CD pipeline using Jenkins and scripting languages like Bash or Shell Scripting. What specific steps would you take to improve the pipeline's efficiency, and how would you ensure that it can handle large-scale deployments?\\n\\n5. **Cloud-Based Automation**: A company is transitioning its application to a cloud-based platform (e.g., AWS or Azure). How would you adapt your existing automation framework to work with this new environment, and what specific tools or services would you use to achieve this?\\n\\n6. **Data Analytics**: You're analyzing the data from a recent performance testing session using SQL queries and data visualization tools like Matplotlib or Pandas. What insights can be gained from this analysis, and how would you present these findings to stakeholders?\\n\\n7. **Collaboration with Development Teams**: How would you work closely with development teams to ensure that your test automation framework aligns with their development goals and methodologies? What communication strategies would you use to facilitate collaboration?\\n\\n8. **Troubleshooting and Debugging**: A critical issue has been identified in the application's performance, but you're unable to reproduce it using your automated tests. How would you approach troubleshooting this issue, and what steps would you take to identify the root cause of the problem?\\n\\n9. **Project-Based Experience**: You were part of a project that involved developing a content-based recommendation system using Python, NLP, BoW, TF-IDF, and Word2Vec. Can you walk us through your approach, challenges, and successes during this project? How did you ensure the accuracy of your model?\\n\\n10. **Code Quality and Maintainability**: You've been tasked with reviewing and improving the code quality of an existing automation framework. What specific code smells or anti-patterns would you look for, and how would you refactor the code to improve maintainability and readability?\\n\\nThese questions are designed to assess the candidate's technical skills, problem-solving ability, understanding of relevant tools and methodologies, and experience working in a team.\""
      ]
     },
     "execution_count": 11,
     "metadata": {},
     "output_type": "execute_result"
    }
   ],
   "source": [
    "res.get(\"text\")"
   ]
  },
  {
   "cell_type": "code",
   "execution_count": null,
   "id": "b1bce64f",
   "metadata": {},
   "outputs": [],
   "source": []
  },
  {
   "cell_type": "code",
   "execution_count": null,
   "id": "0c8143c8",
   "metadata": {},
   "outputs": [],
   "source": []
  }
 ],
 "metadata": {
  "kernelspec": {
   "display_name": "base",
   "language": "python",
   "name": "python3"
  },
  "language_info": {
   "codemirror_mode": {
    "name": "ipython",
    "version": 3
   },
   "file_extension": ".py",
   "mimetype": "text/x-python",
   "name": "python",
   "nbconvert_exporter": "python",
   "pygments_lexer": "ipython3",
   "version": "3.13.5"
  }
 },
 "nbformat": 4,
 "nbformat_minor": 5
}
